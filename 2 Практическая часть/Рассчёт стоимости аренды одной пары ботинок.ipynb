{
 "cells": [
  {
   "attachments": {},
   "cell_type": "markdown",
   "metadata": {},
   "source": [
    "Рассмотрим упрощенный пример расчета стоимости 1 ч проката коньков с ботинками в Ледовом дворце (таблица 2.7). Для этого воспользуемся библиотекой Рandas. Создадим одномерный массив данных pd.series:"
   ]
  },
  {
   "cell_type": "code",
   "execution_count": 4,
   "metadata": {},
   "outputs": [],
   "source": [
    "import pandas as pd\n",
    "import numpy as np"
   ]
  },
  {
   "cell_type": "code",
   "execution_count": 5,
   "metadata": {},
   "outputs": [],
   "source": [
    "s = pd.Series([2600000, 1300000, 156, 50, 4], index=['Себестоимость проката','Прибыль при рентабельности 50 %',\\\n",
    "        'Количество дней работы массового катания в год', 'Среднее количество пар коньков в использовании',\t\\\n",
    "        'Среднее время работы массового катания в день'])\n",
    "s"
   ]
  },
  {
   "cell_type": "code",
   "execution_count": 7,
   "metadata": {},
   "outputs": [],
   "source": [
    "s['Выручка'] = (s['Себестоимость проката'] + s['Прибыль при рентабельности 50 %'])"
   ]
  },
  {
   "cell_type": "code",
   "execution_count": 8,
   "metadata": {},
   "outputs": [],
   "source": [
    "s['НДС'] = s['Выручка']*0.2"
   ]
  },
  {
   "cell_type": "code",
   "execution_count": 9,
   "metadata": {},
   "outputs": [],
   "source": [
    "s['Стоимость услуг проката'] = s['Себестоимость проката'] + s['Прибыль при рентабельности 50 %'] + s['НДС']"
   ]
  },
  {
   "cell_type": "code",
   "execution_count": 10,
   "metadata": {},
   "outputs": [],
   "source": [
    "s['Стоимость аренды одной пары ботинок'] = s['Стоимость услуг проката'] / s['Количество дней работы массового катания в год']\\\n",
    "    /  s['Среднее количество пар коньков в использовании'] /  s['Среднее время работы массового катания в день']"
   ]
  },
  {
   "cell_type": "code",
   "execution_count": 12,
   "metadata": {},
   "outputs": [
    {
     "data": {
      "text/plain": [
       "Себестоимость проката                             2600000.0\n",
       "Прибыль при рентабельности 50 %                   1300000.0\n",
       "Количество дней работы массового катания в год        156.0\n",
       "Среднее количество пар коньков в использовании         50.0\n",
       "Среднее время работы массового катания в день           4.0\n",
       "Выручка                                           3900000.0\n",
       "НДС                                                780000.0\n",
       "Стоимость услуг проката                           4680000.0\n",
       "Стоимость аренды одной пары ботинок                   150.0\n",
       "dtype: float64"
      ]
     },
     "execution_count": 12,
     "metadata": {},
     "output_type": "execute_result"
    }
   ],
   "source": [
    "s"
   ]
  }
 ],
 "metadata": {
  "kernelspec": {
   "display_name": "Python 3",
   "language": "python",
   "name": "python3"
  },
  "language_info": {
   "codemirror_mode": {
    "name": "ipython",
    "version": 3
   },
   "file_extension": ".py",
   "mimetype": "text/x-python",
   "name": "python",
   "nbconvert_exporter": "python",
   "pygments_lexer": "ipython3",
   "version": "3.11.2 (tags/v3.11.2:878ead1, Feb  7 2023, 16:38:35) [MSC v.1934 64 bit (AMD64)]"
  },
  "orig_nbformat": 4,
  "vscode": {
   "interpreter": {
    "hash": "697232e0b8e789ec23fe933c912406e74fbc7d569e5486b9b29a637f977feb44"
   }
  }
 },
 "nbformat": 4,
 "nbformat_minor": 2
}
