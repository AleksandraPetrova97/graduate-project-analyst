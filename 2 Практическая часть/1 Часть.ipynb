{
 "cells": [
  {
   "attachments": {},
   "cell_type": "markdown",
   "metadata": {},
   "source": [
    "## Первая часть нашей второй части"
   ]
  },
  {
   "cell_type": "code",
   "execution_count": 5,
   "metadata": {},
   "outputs": [],
   "source": [
    "import pandas as pd\n",
    "import numpy as np"
   ]
  },
  {
   "cell_type": "code",
   "execution_count": 7,
   "metadata": {},
   "outputs": [
    {
     "data": {
      "text/html": [
       "<div>\n",
       "<style scoped>\n",
       "    .dataframe tbody tr th:only-of-type {\n",
       "        vertical-align: middle;\n",
       "    }\n",
       "\n",
       "    .dataframe tbody tr th {\n",
       "        vertical-align: top;\n",
       "    }\n",
       "\n",
       "    .dataframe thead th {\n",
       "        text-align: right;\n",
       "    }\n",
       "</style>\n",
       "<table border=\"1\" class=\"dataframe\">\n",
       "  <thead>\n",
       "    <tr style=\"text-align: right;\">\n",
       "      <th></th>\n",
       "      <th>Спортивный комплекс</th>\n",
       "      <th>Предоставляемая услуга</th>\n",
       "      <th>Количество занятий</th>\n",
       "      <th>Стоимость</th>\n",
       "    </tr>\n",
       "  </thead>\n",
       "  <tbody>\n",
       "    <tr>\n",
       "      <th>0</th>\n",
       "      <td>ГАУ РМ «Ледовый дворец»</td>\n",
       "      <td>Тренажерный зал</td>\n",
       "      <td>1 занятие</td>\n",
       "      <td>250</td>\n",
       "    </tr>\n",
       "    <tr>\n",
       "      <th>1</th>\n",
       "      <td>ГАУ РМ «Ледовый дворец»</td>\n",
       "      <td>Тренажерный зал</td>\n",
       "      <td>Клуб карта на 1 мес</td>\n",
       "      <td>1600</td>\n",
       "    </tr>\n",
       "    <tr>\n",
       "      <th>2</th>\n",
       "      <td>ГАУ РМ «Ледовый дворец»</td>\n",
       "      <td>Тренажерный зал</td>\n",
       "      <td>льготный 1 мес</td>\n",
       "      <td>800</td>\n",
       "    </tr>\n",
       "    <tr>\n",
       "      <th>3</th>\n",
       "      <td>ГАУ РМ «Ледовый дворец»</td>\n",
       "      <td>Тренажерный зал</td>\n",
       "      <td>Абонемент на 3 мес</td>\n",
       "      <td>4500</td>\n",
       "    </tr>\n",
       "    <tr>\n",
       "      <th>4</th>\n",
       "      <td>ГАУ РМ «Ледовый дворец»</td>\n",
       "      <td>Тренажерный зал</td>\n",
       "      <td>Абонемент на 6 мес</td>\n",
       "      <td>8500</td>\n",
       "    </tr>\n",
       "    <tr>\n",
       "      <th>5</th>\n",
       "      <td>АУ РМ «СК «Мордовия</td>\n",
       "      <td>Тренажерный зал</td>\n",
       "      <td>1 занятие</td>\n",
       "      <td>350</td>\n",
       "    </tr>\n",
       "    <tr>\n",
       "      <th>6</th>\n",
       "      <td>АУ РМ «СК «Мордовия</td>\n",
       "      <td>Тренажерный зал</td>\n",
       "      <td>Клуб карта на 1 мес</td>\n",
       "      <td>2100</td>\n",
       "    </tr>\n",
       "    <tr>\n",
       "      <th>7</th>\n",
       "      <td>АУ РМ «СК «Мордовия</td>\n",
       "      <td>Тренажерный зал</td>\n",
       "      <td>льготный 1 мес</td>\n",
       "      <td>1050</td>\n",
       "    </tr>\n",
       "    <tr>\n",
       "      <th>8</th>\n",
       "      <td>АУ РМ «СК «Мордовия</td>\n",
       "      <td>Тренажерный зал</td>\n",
       "      <td>Абонемент на 3 мес</td>\n",
       "      <td>5000</td>\n",
       "    </tr>\n",
       "    <tr>\n",
       "      <th>9</th>\n",
       "      <td>АУ РМ «СК «Мордовия</td>\n",
       "      <td>Тренажерный зал</td>\n",
       "      <td>Абонемент на 6 мес</td>\n",
       "      <td>9000</td>\n",
       "    </tr>\n",
       "    <tr>\n",
       "      <th>10</th>\n",
       "      <td>ГАУ РМ «Ледовый дворец»</td>\n",
       "      <td>Фитнес</td>\n",
       "      <td>1 занятие</td>\n",
       "      <td>250</td>\n",
       "    </tr>\n",
       "    <tr>\n",
       "      <th>11</th>\n",
       "      <td>ГАУ РМ «Ледовый дворец»</td>\n",
       "      <td>Фитнес</td>\n",
       "      <td>Клуб карта 1 мес</td>\n",
       "      <td>1800</td>\n",
       "    </tr>\n",
       "    <tr>\n",
       "      <th>12</th>\n",
       "      <td>ГАУ РМ «Ледовый дворец»</td>\n",
       "      <td>Фитнес</td>\n",
       "      <td>льготный 1 мес</td>\n",
       "      <td>1100</td>\n",
       "    </tr>\n",
       "    <tr>\n",
       "      <th>13</th>\n",
       "      <td>ГАУ РМ «Ледовый дворец»</td>\n",
       "      <td>Фитнес</td>\n",
       "      <td>Абонемент 3 мес</td>\n",
       "      <td>4500</td>\n",
       "    </tr>\n",
       "    <tr>\n",
       "      <th>14</th>\n",
       "      <td>ГАУ РМ «Ледовый дворец»</td>\n",
       "      <td>Фитнес</td>\n",
       "      <td>Абонемент  6 мес</td>\n",
       "      <td>8500</td>\n",
       "    </tr>\n",
       "    <tr>\n",
       "      <th>15</th>\n",
       "      <td>АУ РМ «СК «Мордовия</td>\n",
       "      <td>Фитнес</td>\n",
       "      <td>1 занятие</td>\n",
       "      <td>300</td>\n",
       "    </tr>\n",
       "    <tr>\n",
       "      <th>16</th>\n",
       "      <td>АУ РМ «СК «Мордовия</td>\n",
       "      <td>Фитнес</td>\n",
       "      <td>Клуб карта 1 мес</td>\n",
       "      <td>2000</td>\n",
       "    </tr>\n",
       "    <tr>\n",
       "      <th>17</th>\n",
       "      <td>АУ РМ «СК «Мордовия</td>\n",
       "      <td>Фитнес</td>\n",
       "      <td>льготный 1 мес</td>\n",
       "      <td>1000</td>\n",
       "    </tr>\n",
       "    <tr>\n",
       "      <th>18</th>\n",
       "      <td>АУ РМ «СК «Мордовия</td>\n",
       "      <td>Фитнес</td>\n",
       "      <td>Абонемент 3 мес</td>\n",
       "      <td>5000</td>\n",
       "    </tr>\n",
       "    <tr>\n",
       "      <th>19</th>\n",
       "      <td>АУ РМ «СК «Мордовия</td>\n",
       "      <td>Фитнес</td>\n",
       "      <td>Абонемент 6 мес</td>\n",
       "      <td>8500</td>\n",
       "    </tr>\n",
       "    <tr>\n",
       "      <th>20</th>\n",
       "      <td>ГАУ РМ «Ледовый дворец»</td>\n",
       "      <td>Солярий</td>\n",
       "      <td>1 мин.</td>\n",
       "      <td>17</td>\n",
       "    </tr>\n",
       "    <tr>\n",
       "      <th>21</th>\n",
       "      <td>ГАУ РМ «Ледовый дворец»</td>\n",
       "      <td>Солярий</td>\n",
       "      <td>60 мин.</td>\n",
       "      <td>900</td>\n",
       "    </tr>\n",
       "    <tr>\n",
       "      <th>22</th>\n",
       "      <td>АУ РМ «СК «Мордовия</td>\n",
       "      <td>Солярий</td>\n",
       "      <td>1 мин.</td>\n",
       "      <td>15</td>\n",
       "    </tr>\n",
       "    <tr>\n",
       "      <th>23</th>\n",
       "      <td>АУ РМ «СК «Мордовия</td>\n",
       "      <td>Солярий</td>\n",
       "      <td>60 мин.</td>\n",
       "      <td>600</td>\n",
       "    </tr>\n",
       "  </tbody>\n",
       "</table>\n",
       "</div>"
      ],
      "text/plain": [
       "        Спортивный комплекс Предоставляемая услуга  \\\n",
       "0   ГАУ РМ «Ледовый дворец»        Тренажерный зал   \n",
       "1   ГАУ РМ «Ледовый дворец»        Тренажерный зал   \n",
       "2   ГАУ РМ «Ледовый дворец»        Тренажерный зал   \n",
       "3   ГАУ РМ «Ледовый дворец»        Тренажерный зал   \n",
       "4   ГАУ РМ «Ледовый дворец»        Тренажерный зал   \n",
       "5       АУ РМ «СК «Мордовия        Тренажерный зал   \n",
       "6       АУ РМ «СК «Мордовия        Тренажерный зал   \n",
       "7       АУ РМ «СК «Мордовия        Тренажерный зал   \n",
       "8       АУ РМ «СК «Мордовия        Тренажерный зал   \n",
       "9       АУ РМ «СК «Мордовия        Тренажерный зал   \n",
       "10  ГАУ РМ «Ледовый дворец»                 Фитнес   \n",
       "11  ГАУ РМ «Ледовый дворец»                 Фитнес   \n",
       "12  ГАУ РМ «Ледовый дворец»                 Фитнес   \n",
       "13  ГАУ РМ «Ледовый дворец»                 Фитнес   \n",
       "14  ГАУ РМ «Ледовый дворец»                 Фитнес   \n",
       "15      АУ РМ «СК «Мордовия                 Фитнес   \n",
       "16      АУ РМ «СК «Мордовия                 Фитнес   \n",
       "17      АУ РМ «СК «Мордовия                 Фитнес   \n",
       "18      АУ РМ «СК «Мордовия                 Фитнес   \n",
       "19      АУ РМ «СК «Мордовия                 Фитнес   \n",
       "20  ГАУ РМ «Ледовый дворец»                Солярий   \n",
       "21  ГАУ РМ «Ледовый дворец»                Солярий   \n",
       "22      АУ РМ «СК «Мордовия                Солярий   \n",
       "23      АУ РМ «СК «Мордовия                Солярий   \n",
       "\n",
       "              Количество занятий  Стоимость  \n",
       "0                      1 занятие        250  \n",
       "1            Клуб карта на 1 мес       1600  \n",
       "2   льготный 1 мес                      800  \n",
       "3             Абонемент на 3 мес       4500  \n",
       "4             Абонемент на 6 мес       8500  \n",
       "5                      1 занятие        350  \n",
       "6            Клуб карта на 1 мес       2100  \n",
       "7     льготный 1 мес                   1050  \n",
       "8             Абонемент на 3 мес       5000  \n",
       "9             Абонемент на 6 мес       9000  \n",
       "10                     1 занятие        250  \n",
       "11              Клуб карта 1 мес       1800  \n",
       "12              льготный 1 мес         1100  \n",
       "13               Абонемент 3 мес       4500  \n",
       "14              Абонемент  6 мес       8500  \n",
       "15                     1 занятие        300  \n",
       "16              Клуб карта 1 мес       2000  \n",
       "17     льготный 1 мес                  1000  \n",
       "18               Абонемент 3 мес       5000  \n",
       "19               Абонемент 6 мес       8500  \n",
       "20                        1 мин.         17  \n",
       "21                       60 мин.        900  \n",
       "22                        1 мин.         15  \n",
       "23                       60 мин.        600  "
      ]
     },
     "execution_count": 7,
     "metadata": {},
     "output_type": "execute_result"
    }
   ],
   "source": [
    "df = pd.read_csv(\"Сравнительная таблица-1.csv\", sep=';', encoding='windows-1251')\n",
    "df"
   ]
  },
  {
   "attachments": {},
   "cell_type": "markdown",
   "metadata": {},
   "source": [
    "Мы импортировали Data Frame, далее сделаем группировку с помощью crosstab."
   ]
  },
  {
   "cell_type": "code",
   "execution_count": 8,
   "metadata": {},
   "outputs": [
    {
     "data": {
      "text/html": [
       "<div>\n",
       "<style scoped>\n",
       "    .dataframe tbody tr th:only-of-type {\n",
       "        vertical-align: middle;\n",
       "    }\n",
       "\n",
       "    .dataframe tbody tr th {\n",
       "        vertical-align: top;\n",
       "    }\n",
       "\n",
       "    .dataframe thead th {\n",
       "        text-align: right;\n",
       "    }\n",
       "</style>\n",
       "<table border=\"1\" class=\"dataframe\">\n",
       "  <thead>\n",
       "    <tr style=\"text-align: right;\">\n",
       "      <th>Спортивный комплекс</th>\n",
       "      <th>Предоставляемая услуга</th>\n",
       "      <th>АУ РМ «СК «Мордовия</th>\n",
       "      <th>ГАУ РМ «Ледовый дворец»</th>\n",
       "    </tr>\n",
       "  </thead>\n",
       "  <tbody>\n",
       "    <tr>\n",
       "      <th>0</th>\n",
       "      <td>Солярий</td>\n",
       "      <td>307.5</td>\n",
       "      <td>458.5</td>\n",
       "    </tr>\n",
       "    <tr>\n",
       "      <th>1</th>\n",
       "      <td>Тренажерный зал</td>\n",
       "      <td>3500.0</td>\n",
       "      <td>3130.0</td>\n",
       "    </tr>\n",
       "    <tr>\n",
       "      <th>2</th>\n",
       "      <td>Фитнес</td>\n",
       "      <td>3360.0</td>\n",
       "      <td>3230.0</td>\n",
       "    </tr>\n",
       "  </tbody>\n",
       "</table>\n",
       "</div>"
      ],
      "text/plain": [
       "Спортивный комплекс Предоставляемая услуга  АУ РМ «СК «Мордовия  \\\n",
       "0                                  Солярий                307.5   \n",
       "1                          Тренажерный зал               3500.0   \n",
       "2                                   Фитнес               3360.0   \n",
       "\n",
       "Спортивный комплекс  ГАУ РМ «Ледовый дворец»  \n",
       "0                                      458.5  \n",
       "1                                     3130.0  \n",
       "2                                     3230.0  "
      ]
     },
     "execution_count": 8,
     "metadata": {},
     "output_type": "execute_result"
    }
   ],
   "source": [
    "data = pd.crosstab(index=df['Предоставляемая услуга'],\n",
    "                    columns=df['Спортивный комплекс'], \n",
    "                    values=df['Стоимость'], \n",
    "                    aggfunc='mean').reset_index()\n",
    "data.head()"
   ]
  },
  {
   "attachments": {},
   "cell_type": "markdown",
   "metadata": {},
   "source": [
    "импортировали матплотлиб"
   ]
  },
  {
   "cell_type": "code",
   "execution_count": 9,
   "metadata": {},
   "outputs": [],
   "source": [
    "import matplotlib.pyplot as plt"
   ]
  },
  {
   "cell_type": "code",
   "execution_count": 10,
   "metadata": {},
   "outputs": [
    {
     "data": {
      "text/plain": [
       "([<matplotlib.axis.XTick at 0x26e7b625e50>,\n",
       "  <matplotlib.axis.XTick at 0x26e7b624250>,\n",
       "  <matplotlib.axis.XTick at 0x26e7b28c8d0>],\n",
       " [Text(0, 0, 'Солярий'), Text(1, 0, 'Тренажерный зал'), Text(2, 0, 'Фитнес')])"
      ]
     },
     "execution_count": 10,
     "metadata": {},
     "output_type": "execute_result"
    },
    {
     "data": {
      "image/png": "[encoded data removed]",
      "text/plain": [
       "<Figure size 1000x400 with 1 Axes>"
      ]
     },
     "metadata": {},
     "output_type": "display_data"
    }
   ],
   "source": [
    "plt.figure(figsize=(10,4))\n",
    "n_ticks = np.arange(len(data['Предоставляемая услуга']))\n",
    "offset = 0.2\n",
    "w = 0.4\n",
    "plt.bar(n_ticks - offset, data[\"АУ РМ «СК «Мордовия\"], width=w)\n",
    "plt.bar(n_ticks + offset, data['ГАУ РМ «Ледовый дворец»'], width=w)\n",
    "plt.title('Сравнительная диаграмма')\n",
    "plt.xlabel('Предоставляемая услуга')\n",
    "plt.ylabel('Стоимость')\n",
    "plt.legend(['АУ РМ «СК «Мордовия', 'ГАУ РМ «Ледовый дворец»'])\n",
    "plt.xticks(n_ticks, data['Предоставляемая услуга'], rotation= 0)"
   ]
  },
  {
   "attachments": {},
   "cell_type": "markdown",
   "metadata": {},
   "source": [
    "сделаем две отдельные группы"
   ]
  },
  {
   "cell_type": "code",
   "execution_count": 11,
   "metadata": {},
   "outputs": [
    {
     "data": {
      "text/plain": [
       "0      250\n",
       "1     1600\n",
       "2      800\n",
       "3     4500\n",
       "4     8500\n",
       "10     250\n",
       "11    1800\n",
       "12    1100\n",
       "13    4500\n",
       "14    8500\n",
       "20      17\n",
       "21     900\n",
       "Name: Стоимость, dtype: int64"
      ]
     },
     "execution_count": 11,
     "metadata": {},
     "output_type": "execute_result"
    }
   ],
   "source": [
    "a_group = df['Стоимость'][df['Спортивный комплекс'] == 'ГАУ РМ «Ледовый дворец»']\n",
    "b_group = df['Стоимость'][df['Спортивный комплекс'] == 'АУ РМ «СК «Мордовия']\n",
    "a_group"
   ]
  },
  {
   "attachments": {},
   "cell_type": "markdown",
   "metadata": {},
   "source": [
    "импортируем scipy"
   ]
  },
  {
   "cell_type": "code",
   "execution_count": 12,
   "metadata": {},
   "outputs": [],
   "source": [
    "import scipy\n",
    "from scipy import stats"
   ]
  },
  {
   "cell_type": "code",
   "execution_count": 13,
   "metadata": {},
   "outputs": [
    {
     "data": {
      "text/plain": [
       "ShapiroResult(statistic=0.8116124868392944, pvalue=0.012736338190734386)"
      ]
     },
     "execution_count": 13,
     "metadata": {},
     "output_type": "execute_result"
    }
   ],
   "source": [
    "# распределение не является нормальным так как pvalue < альфы\n",
    "\n",
    "scipy.stats.shapiro(a_group)\n",
    "scipy.stats.shapiro(b_group)"
   ]
  },
  {
   "cell_type": "code",
   "execution_count": 14,
   "metadata": {},
   "outputs": [
    {
     "data": {
      "text/plain": [
       "TtestResult(statistic=-0.14281415462708683, pvalue=0.8877368930120308, df=22.0)"
      ]
     },
     "execution_count": 14,
     "metadata": {},
     "output_type": "execute_result"
    }
   ],
   "source": [
    "# по результатам данного теста, можно сделать вывод, что статистически значимых различий в цене не обнаружено\n",
    "\n",
    "stats.ttest_ind(a_group, b_group)"
   ]
  }
 ],
 "metadata": {
  "kernelspec": {
   "display_name": "Python 3",
   "language": "python",
   "name": "python3"
  },
  "language_info": {
   "codemirror_mode": {
    "name": "ipython",
    "version": 3
   },
   "file_extension": ".py",
   "mimetype": "text/x-python",
   "name": "python",
   "nbconvert_exporter": "python",
   "pygments_lexer": "ipython3",
   "version": "3.11.2"
  },
  "orig_nbformat": 4,
  "vscode": {
   "interpreter": {
    "hash": "697232e0b8e789ec23fe933c912406e74fbc7d569e5486b9b29a637f977feb44"
   }
  }
 },
 "nbformat": 4,
 "nbformat_minor": 2
}
