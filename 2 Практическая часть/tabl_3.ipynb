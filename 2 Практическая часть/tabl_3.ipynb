{
 "cells": [
  {
   "cell_type": "code",
   "execution_count": null,
   "metadata": {},
   "outputs": [],
   "source": [
    "import pandas as pd"
   ]
  },
  {
   "cell_type": "code",
   "execution_count": null,
   "metadata": {},
   "outputs": [],
   "source": [
    "s = pd.Series([2600000, 1300000, 156, 50, 4], index=['Себестоимость проката','Прибыль при рентабельности 50 %',\\\n",
    "        'Количество дней работы массового катания в год', 'Среднее количество пар коньков в использовании',\t\\\n",
    "        'Среднее время работы массового катания в день'])"
   ]
  },
  {
   "cell_type": "code",
   "execution_count": null,
   "metadata": {},
   "outputs": [],
   "source": [
    "s['Выручка'] = s['Себестоимость проката'] + s['Прибыль при рентабельности 50 %']\n",
    "s"
   ]
  },
  {
   "cell_type": "code",
   "execution_count": null,
   "metadata": {},
   "outputs": [],
   "source": [
    "s['НДС'] = s['Выручка']*0.2\n",
    "s"
   ]
  },
  {
   "cell_type": "code",
   "execution_count": null,
   "metadata": {},
   "outputs": [],
   "source": [
    "s['Стоимость услуг проката'] = s['Себестоимость проката'] + s['Прибыль при рентабельности 50 %'] + s['НДС']\n",
    "s"
   ]
  },
  {
   "cell_type": "code",
   "execution_count": 1,
   "metadata": {},
   "outputs": [
    {
     "ename": "NameError",
     "evalue": "name 's' is not defined",
     "output_type": "error",
     "traceback": [
      "\u001b[1;31m---------------------------------------------------------------------------\u001b[0m",
      "\u001b[1;31mNameError\u001b[0m                                 Traceback (most recent call last)",
      "Cell \u001b[1;32mIn[1], line 1\u001b[0m\n\u001b[1;32m----> 1\u001b[0m s[\u001b[39m'\u001b[39m\u001b[39mСтоимость аренды одной пары ботинок\u001b[39m\u001b[39m'\u001b[39m] \u001b[39m=\u001b[39m s[\u001b[39m'\u001b[39m\u001b[39mСтоимость услуг проката\u001b[39m\u001b[39m'\u001b[39m] \u001b[39m/\u001b[39m s[\u001b[39m'\u001b[39m\u001b[39mКоличество дней работы массового катания в год\u001b[39m\u001b[39m'\u001b[39m]\\\n\u001b[0;32m      2\u001b[0m     \u001b[39m/\u001b[39m  s[\u001b[39m'\u001b[39m\u001b[39mСреднее количество пар коньков в использовании\u001b[39m\u001b[39m'\u001b[39m] \u001b[39m/\u001b[39m  s[\u001b[39m'\u001b[39m\u001b[39mСреднее время работы массового катания в день\u001b[39m\u001b[39m'\u001b[39m]\n",
      "\u001b[1;31mNameError\u001b[0m: name 's' is not defined"
     ]
    }
   ],
   "source": [
    "s['Стоимость аренды одной пары ботинок'] = s['Стоимость услуг проката'] / s['Количество дней работы массового катания в год']\\\n",
    "    /  s['Среднее количество пар коньков в использовании'] /  s['Среднее время работы массового катания в день']"
   ]
  }
 ],
 "metadata": {
  "kernelspec": {
   "display_name": "Python 3",
   "language": "python",
   "name": "python3"
  },
  "language_info": {
   "codemirror_mode": {
    "name": "ipython",
    "version": 3
   },
   "file_extension": ".py",
   "mimetype": "text/x-python",
   "name": "python",
   "nbconvert_exporter": "python",
   "pygments_lexer": "ipython3",
   "version": "3.11.2 (tags/v3.11.2:878ead1, Feb  7 2023, 16:38:35) [MSC v.1934 64 bit (AMD64)]"
  },
  "orig_nbformat": 4,
  "vscode": {
   "interpreter": {
    "hash": "697232e0b8e789ec23fe933c912406e74fbc7d569e5486b9b29a637f977feb44"
   }
  }
 },
 "nbformat": 4,
 "nbformat_minor": 2
}
