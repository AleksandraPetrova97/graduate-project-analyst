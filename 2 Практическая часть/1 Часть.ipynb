{
 "cells": [
  {
   "attachments": {},
   "cell_type": "markdown",
   "metadata": {},
   "source": [
    "## Первая часть нашей второй части"
   ]
  },
  {
   "attachments": {},
   "cell_type": "markdown",
   "metadata": {},
   "source": [
    "> Сравним систему ценообразования ГАУ РМ «Ледовый дворец» на сопоставимые с АУ РМ «СК «Мордовия» услуги. Известно, что и то, и другое спортивное учреждение предоставляет скидки для студентов, школьников и пенсионеров, а также на посещение в те часы, когда не наблюдается большого наплыва.\n",
    "\n",
    "> Для начала импортируем библиотеки pandas, numpy и matplotlib, для дальнейшей работы с данными. Получим имеющие данные из csv файла и сделаем из него DataFrames."
   ]
  },
  {
   "cell_type": "code",
   "execution_count": 1,
   "metadata": {},
   "outputs": [],
   "source": [
    "import pandas \n",
    "import matplotlib.pyplot\n"
   ]
  },
  {
   "cell_type": "code",
   "execution_count": 34,
   "metadata": {},
   "outputs": [],
   "source": [
    "df_comparison_table = pd.read_csv(\"Сравнительная таблица-1.csv\", sep=';', encoding='windows-1251')\n"
   ]
  },
  {
   "cell_type": "code",
   "execution_count": 35,
   "metadata": {},
   "outputs": [
    {
     "data": {
      "text/html": [
       "<div>\n",
       "<style scoped>\n",
       "    .dataframe tbody tr th:only-of-type {\n",
       "        vertical-align: middle;\n",
       "    }\n",
       "\n",
       "    .dataframe tbody tr th {\n",
       "        vertical-align: top;\n",
       "    }\n",
       "\n",
       "    .dataframe thead th {\n",
       "        text-align: right;\n",
       "    }\n",
       "</style>\n",
       "<table border=\"1\" class=\"dataframe\">\n",
       "  <thead>\n",
       "    <tr style=\"text-align: right;\">\n",
       "      <th></th>\n",
       "      <th>Спортивный комплекс</th>\n",
       "      <th>Предоставляемая услуга</th>\n",
       "      <th>Количество занятий</th>\n",
       "      <th>Стоимость</th>\n",
       "    </tr>\n",
       "  </thead>\n",
       "  <tbody>\n",
       "    <tr>\n",
       "      <th>0</th>\n",
       "      <td>ГАУ РМ «Ледовый дворец»</td>\n",
       "      <td>Тренажерный зал</td>\n",
       "      <td>1 занятие</td>\n",
       "      <td>250</td>\n",
       "    </tr>\n",
       "    <tr>\n",
       "      <th>1</th>\n",
       "      <td>ГАУ РМ «Ледовый дворец»</td>\n",
       "      <td>Тренажерный зал</td>\n",
       "      <td>Клуб карта на 1 мес</td>\n",
       "      <td>1600</td>\n",
       "    </tr>\n",
       "    <tr>\n",
       "      <th>2</th>\n",
       "      <td>ГАУ РМ «Ледовый дворец»</td>\n",
       "      <td>Тренажерный зал</td>\n",
       "      <td>льготный 1 мес</td>\n",
       "      <td>800</td>\n",
       "    </tr>\n",
       "    <tr>\n",
       "      <th>3</th>\n",
       "      <td>ГАУ РМ «Ледовый дворец»</td>\n",
       "      <td>Тренажерный зал</td>\n",
       "      <td>Абонемент на 3 мес</td>\n",
       "      <td>4500</td>\n",
       "    </tr>\n",
       "    <tr>\n",
       "      <th>4</th>\n",
       "      <td>ГАУ РМ «Ледовый дворец»</td>\n",
       "      <td>Тренажерный зал</td>\n",
       "      <td>Абонемент на 6 мес</td>\n",
       "      <td>8500</td>\n",
       "    </tr>\n",
       "  </tbody>\n",
       "</table>\n",
       "</div>"
      ],
      "text/plain": [
       "       Спортивный комплекс Предоставляемая услуга  \\\n",
       "0  ГАУ РМ «Ледовый дворец»        Тренажерный зал   \n",
       "1  ГАУ РМ «Ледовый дворец»        Тренажерный зал   \n",
       "2  ГАУ РМ «Ледовый дворец»        Тренажерный зал   \n",
       "3  ГАУ РМ «Ледовый дворец»        Тренажерный зал   \n",
       "4  ГАУ РМ «Ледовый дворец»        Тренажерный зал   \n",
       "\n",
       "             Количество занятий  Стоимость  \n",
       "0                     1 занятие        250  \n",
       "1           Клуб карта на 1 мес       1600  \n",
       "2  льготный 1 мес                      800  \n",
       "3            Абонемент на 3 мес       4500  \n",
       "4            Абонемент на 6 мес       8500  "
      ]
     },
     "execution_count": 35,
     "metadata": {},
     "output_type": "execute_result"
    }
   ],
   "source": [
    "df_comparison_table.head()\n"
   ]
  },
  {
   "cell_type": "code",
   "execution_count": 36,
   "metadata": {},
   "outputs": [
    {
     "data": {
      "text/html": [
       "<div>\n",
       "<style scoped>\n",
       "    .dataframe tbody tr th:only-of-type {\n",
       "        vertical-align: middle;\n",
       "    }\n",
       "\n",
       "    .dataframe tbody tr th {\n",
       "        vertical-align: top;\n",
       "    }\n",
       "\n",
       "    .dataframe thead th {\n",
       "        text-align: right;\n",
       "    }\n",
       "</style>\n",
       "<table border=\"1\" class=\"dataframe\">\n",
       "  <thead>\n",
       "    <tr style=\"text-align: right;\">\n",
       "      <th></th>\n",
       "      <th></th>\n",
       "      <th>Количество занятий</th>\n",
       "      <th>Стоимость</th>\n",
       "    </tr>\n",
       "    <tr>\n",
       "      <th>Спортивный комплекс</th>\n",
       "      <th>Предоставляемая услуга</th>\n",
       "      <th></th>\n",
       "      <th></th>\n",
       "    </tr>\n",
       "  </thead>\n",
       "  <tbody>\n",
       "    <tr>\n",
       "      <th rowspan=\"3\" valign=\"top\">АУ РМ «СК «Мордовия</th>\n",
       "      <th>Солярий</th>\n",
       "      <td>1 мин.</td>\n",
       "      <td>15</td>\n",
       "    </tr>\n",
       "    <tr>\n",
       "      <th>Тренажерный зал</th>\n",
       "      <td>1 занятие</td>\n",
       "      <td>350</td>\n",
       "    </tr>\n",
       "    <tr>\n",
       "      <th>Фитнес</th>\n",
       "      <td>1 занятие</td>\n",
       "      <td>300</td>\n",
       "    </tr>\n",
       "    <tr>\n",
       "      <th rowspan=\"3\" valign=\"top\">ГАУ РМ «Ледовый дворец»</th>\n",
       "      <th>Солярий</th>\n",
       "      <td>1 мин.</td>\n",
       "      <td>17</td>\n",
       "    </tr>\n",
       "    <tr>\n",
       "      <th>Тренажерный зал</th>\n",
       "      <td>1 занятие</td>\n",
       "      <td>250</td>\n",
       "    </tr>\n",
       "    <tr>\n",
       "      <th>Фитнес</th>\n",
       "      <td>1 занятие</td>\n",
       "      <td>250</td>\n",
       "    </tr>\n",
       "  </tbody>\n",
       "</table>\n",
       "</div>"
      ],
      "text/plain": [
       "                                               Количество занятий  Стоимость\n",
       "Спортивный комплекс     Предоставляемая услуга                              \n",
       "АУ РМ «СК «Мордовия     Солярий                            1 мин.         15\n",
       "                        Тренажерный зал                 1 занятие        350\n",
       "                        Фитнес                          1 занятие        300\n",
       "ГАУ РМ «Ледовый дворец» Солярий                            1 мин.         17\n",
       "                        Тренажерный зал                 1 занятие        250\n",
       "                        Фитнес                          1 занятие        250"
      ]
     },
     "execution_count": 36,
     "metadata": {},
     "output_type": "execute_result"
    }
   ],
   "source": [
    "# data_grp = df.groupby(['Спортивный комплекс','Предоставляемая услуга'])\n",
    "# # data_grp.first()\n",
    "data_grp.first()"
   ]
  },
  {
   "cell_type": "code",
   "execution_count": 31,
   "metadata": {},
   "outputs": [
    {
     "name": "stderr",
     "output_type": "stream",
     "text": [
      "C:\\Users\\Администратор\\AppData\\Local\\Temp\\ipykernel_10764\\3631271852.py:2: FutureWarning: \n",
      "\n",
      "The `ci` parameter is deprecated. Use `errorbar=None` for the same effect.\n",
      "\n",
      "  splot= sns.barplot(x='Предоставляемая услуга', y='Стоимость',\n"
     ]
    },
    {
     "data": {
      "text/plain": [
       "Text(0, 0.5, 'Средняя стоимость услуг, руб')"
      ]
     },
     "execution_count": 31,
     "metadata": {},
     "output_type": "execute_result"
    },
    {
     "data": {
      "image/png": "[encoded data removed]",
      "text/plain": [
       "<Figure size 1000x400 with 1 Axes>"
      ]
     },
     "metadata": {},
     "output_type": "display_data"
    }
   ],
   "source": [
    "plt.figure(figsize=(10,4))\n",
    "splot= sns.barplot(x='Предоставляемая услуга', y='Стоимость',\n",
    "            ci=None, hue= \"Спортивный комплекс\", data = df)\n",
    "plt.bar_label(splot.containers[0],size=10, label_type='center')\n",
    "plt.bar_label(splot.containers[1],size=10, label_type='center')\n",
    "plt.xlabel('Наименование услуги')\n",
    "plt.ylabel('Средняя стоимость услуг, руб')\n"
   ]
  }
 ],
 "metadata": {
  "kernelspec": {
   "display_name": "Python 3",
   "language": "python",
   "name": "python3"
  },
  "language_info": {
   "codemirror_mode": {
    "name": "ipython",
    "version": 3
   },
   "file_extension": ".py",
   "mimetype": "text/x-python",
   "name": "python",
   "nbconvert_exporter": "python",
   "pygments_lexer": "ipython3",
   "version": "3.11.2"
  },
  "orig_nbformat": 4,
  "vscode": {
   "interpreter": {
    "hash": "697232e0b8e789ec23fe933c912406e74fbc7d569e5486b9b29a637f977feb44"
   }
  }
 },
 "nbformat": 4,
 "nbformat_minor": 2
}
