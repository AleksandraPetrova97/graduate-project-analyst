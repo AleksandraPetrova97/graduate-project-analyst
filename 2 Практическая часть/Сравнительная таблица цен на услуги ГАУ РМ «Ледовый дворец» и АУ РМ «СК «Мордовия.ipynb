{
 "cells": [
  {
   "attachments": {},
   "cell_type": "markdown",
   "metadata": {},
   "source": [
    "Непосредственно работу с данными о ценах на услуги ГАУ РМ «Ледовый дворец» и АУ РМ «СК «Мордовия», начнем с импортирования необходимой для работы библиотеки pandas. Подключение пакета осуществим с помощью import."
   ]
  },
  {
   "cell_type": "code",
   "execution_count": 1,
   "metadata": {},
   "outputs": [],
   "source": [
    "import pandas as pd"
   ]
  },
  {
   "attachments": {},
   "cell_type": "markdown",
   "metadata": {},
   "source": [
    "Файл Приложения 1 – Цены на услуги в ГАУ РМ «Ледовый дворец» и АУ РМ «СК «Мордовия» с расширением .csv,  поэтому для считывания из него данных в объект DataFrame используем функцию библиотеки pd.read_csv():"
   ]
  },
  {
   "cell_type": "code",
   "execution_count": 2,
   "metadata": {},
   "outputs": [],
   "source": [
    "df_comparison_table = pd.read_csv(\"Приложения\\Приложение_1_Цены на услуги ГАУ РМ «Ледовый дворец» и АУ РМ «СК «Мордовия.csv\",\n",
    "                                        sep=';', encoding='windows-1251')"
   ]
  },
  {
   "attachments": {},
   "cell_type": "markdown",
   "metadata": {},
   "source": [
    "После загрузки фрейма данных из файла Приложения 1 визуально оценим случайно выбранные 5 строк объекта DataFrame с ценами на платные услуги ГАУ РМ «Ледовый дворец» и АУ РМ «СК «Мордовия», используя встроенную функцию модуля random в Python – sample(), которая возвращает список элементов определенной длины, выбранных из последовательности: "
   ]
  },
  {
   "cell_type": "code",
   "execution_count": 8,
   "metadata": {},
   "outputs": [
    {
     "data": {
      "text/html": [
       "<div>\n",
       "<style scoped>\n",
       "    .dataframe tbody tr th:only-of-type {\n",
       "        vertical-align: middle;\n",
       "    }\n",
       "\n",
       "    .dataframe tbody tr th {\n",
       "        vertical-align: top;\n",
       "    }\n",
       "\n",
       "    .dataframe thead th {\n",
       "        text-align: right;\n",
       "    }\n",
       "</style>\n",
       "<table border=\"1\" class=\"dataframe\">\n",
       "  <thead>\n",
       "    <tr style=\"text-align: right;\">\n",
       "      <th></th>\n",
       "      <th>Спортивный комплекс</th>\n",
       "      <th>Предоставляемая услуга</th>\n",
       "      <th>Количество занятий</th>\n",
       "      <th>Стоимость</th>\n",
       "    </tr>\n",
       "  </thead>\n",
       "  <tbody>\n",
       "    <tr>\n",
       "      <th>3</th>\n",
       "      <td>ГАУ РМ «Ледовый дворец»</td>\n",
       "      <td>Тренажерный зал</td>\n",
       "      <td>Абонемент на 3 месяца</td>\n",
       "      <td>4500</td>\n",
       "    </tr>\n",
       "    <tr>\n",
       "      <th>5</th>\n",
       "      <td>АУ РМ «СК «Мордовия</td>\n",
       "      <td>Тренажерный зал</td>\n",
       "      <td>1 занятие</td>\n",
       "      <td>350</td>\n",
       "    </tr>\n",
       "    <tr>\n",
       "      <th>6</th>\n",
       "      <td>АУ РМ «СК «Мордовия</td>\n",
       "      <td>Тренажерный зал</td>\n",
       "      <td>Клубная карта на 1 месяц</td>\n",
       "      <td>2100</td>\n",
       "    </tr>\n",
       "    <tr>\n",
       "      <th>9</th>\n",
       "      <td>АУ РМ «СК «Мордовия</td>\n",
       "      <td>Тренажерный зал</td>\n",
       "      <td>Абонемент на 6 месяцев</td>\n",
       "      <td>9000</td>\n",
       "    </tr>\n",
       "    <tr>\n",
       "      <th>15</th>\n",
       "      <td>АУ РМ «СК «Мордовия</td>\n",
       "      <td>Фитнес</td>\n",
       "      <td>1 занятие</td>\n",
       "      <td>300</td>\n",
       "    </tr>\n",
       "  </tbody>\n",
       "</table>\n",
       "</div>"
      ],
      "text/plain": [
       "        Спортивный комплекс Предоставляемая услуга        Количество занятий  \\\n",
       "3   ГАУ РМ «Ледовый дворец»        Тренажерный зал     Абонемент на 3 месяца   \n",
       "5       АУ РМ «СК «Мордовия        Тренажерный зал                 1 занятие   \n",
       "6       АУ РМ «СК «Мордовия        Тренажерный зал  Клубная карта на 1 месяц   \n",
       "9       АУ РМ «СК «Мордовия        Тренажерный зал    Абонемент на 6 месяцев   \n",
       "15      АУ РМ «СК «Мордовия                 Фитнес                 1 занятие   \n",
       "\n",
       "    Стоимость  \n",
       "3        4500  \n",
       "5         350  \n",
       "6        2100  \n",
       "9        9000  \n",
       "15        300  "
      ]
     },
     "execution_count": 8,
     "metadata": {},
     "output_type": "execute_result"
    }
   ],
   "source": [
    "df_comparison_table.sample(5)"
   ]
  },
  {
   "attachments": {},
   "cell_type": "markdown",
   "metadata": {},
   "source": [
    "Как видим, фрейм данных содержит информацию о стоимости идентично предоставляемых услуг ГАУ РМ «Ледовый дворец» и АУ РМ «СК «Мордовия».\n",
    "С целью более легкого понимания и анализа DataFrame с ценами на платные услуги спортивных комплексов преобразуем в сводную таблицу с группировкой по учреждению и предоставляемой услуге, воспользовавшись функцией pivot_table библиотеки Рandas:"
   ]
  },
  {
   "cell_type": "code",
   "execution_count": 9,
   "metadata": {},
   "outputs": [
    {
     "data": {
      "text/html": [
       "<div>\n",
       "<style scoped>\n",
       "    .dataframe tbody tr th:only-of-type {\n",
       "        vertical-align: middle;\n",
       "    }\n",
       "\n",
       "    .dataframe tbody tr th {\n",
       "        vertical-align: top;\n",
       "    }\n",
       "\n",
       "    .dataframe thead tr th {\n",
       "        text-align: left;\n",
       "    }\n",
       "\n",
       "    .dataframe thead tr:last-of-type th {\n",
       "        text-align: right;\n",
       "    }\n",
       "</style>\n",
       "<table border=\"1\" class=\"dataframe\">\n",
       "  <thead>\n",
       "    <tr>\n",
       "      <th></th>\n",
       "      <th></th>\n",
       "      <th colspan=\"2\" halign=\"left\">Стоимость</th>\n",
       "    </tr>\n",
       "    <tr>\n",
       "      <th></th>\n",
       "      <th>Спортивный комплекс</th>\n",
       "      <th>АУ РМ «СК «Мордовия</th>\n",
       "      <th>ГАУ РМ «Ледовый дворец»</th>\n",
       "    </tr>\n",
       "    <tr>\n",
       "      <th>Предоставляемая услуга</th>\n",
       "      <th>Количество занятий</th>\n",
       "      <th></th>\n",
       "      <th></th>\n",
       "    </tr>\n",
       "  </thead>\n",
       "  <tbody>\n",
       "    <tr>\n",
       "      <th rowspan=\"2\" valign=\"top\">Солярий</th>\n",
       "      <th>1 мин.</th>\n",
       "      <td>17</td>\n",
       "      <td>15</td>\n",
       "    </tr>\n",
       "    <tr>\n",
       "      <th>60 мин.</th>\n",
       "      <td>900</td>\n",
       "      <td>600</td>\n",
       "    </tr>\n",
       "    <tr>\n",
       "      <th rowspan=\"5\" valign=\"top\">Тренажерный зал</th>\n",
       "      <th>1 занятие</th>\n",
       "      <td>350</td>\n",
       "      <td>250</td>\n",
       "    </tr>\n",
       "    <tr>\n",
       "      <th>Абонемент на 3 месяца</th>\n",
       "      <td>5000</td>\n",
       "      <td>4500</td>\n",
       "    </tr>\n",
       "    <tr>\n",
       "      <th>Абонемент на 6 месяцев</th>\n",
       "      <td>9000</td>\n",
       "      <td>8500</td>\n",
       "    </tr>\n",
       "    <tr>\n",
       "      <th>Клубная карта на 1 месяц</th>\n",
       "      <td>2100</td>\n",
       "      <td>1600</td>\n",
       "    </tr>\n",
       "    <tr>\n",
       "      <th>Льготный 1 месяц</th>\n",
       "      <td>1050</td>\n",
       "      <td>800</td>\n",
       "    </tr>\n",
       "    <tr>\n",
       "      <th rowspan=\"5\" valign=\"top\">Фитнес</th>\n",
       "      <th>1 занятие</th>\n",
       "      <td>300</td>\n",
       "      <td>250</td>\n",
       "    </tr>\n",
       "    <tr>\n",
       "      <th>Абонемент на 3 месяца</th>\n",
       "      <td>5000</td>\n",
       "      <td>4500</td>\n",
       "    </tr>\n",
       "    <tr>\n",
       "      <th>Абонемент на 6 месяцев</th>\n",
       "      <td>8500</td>\n",
       "      <td>8500</td>\n",
       "    </tr>\n",
       "    <tr>\n",
       "      <th>Клубная карта на 1 месяц</th>\n",
       "      <td>2000</td>\n",
       "      <td>1800</td>\n",
       "    </tr>\n",
       "    <tr>\n",
       "      <th>Льготный 1 месяц</th>\n",
       "      <td>1000</td>\n",
       "      <td>1100</td>\n",
       "    </tr>\n",
       "  </tbody>\n",
       "</table>\n",
       "</div>"
      ],
      "text/plain": [
       "                                                          Стоимость  \\\n",
       "Спортивный комплекс                             АУ РМ «СК «Мордовия   \n",
       "Предоставляемая услуга Количество занятий                             \n",
       "Солярий                1 мин.                                    17   \n",
       "                       60 мин.                                  900   \n",
       "Тренажерный зал        1 занятие                                350   \n",
       "                       Абонемент на 3 месяца                   5000   \n",
       "                       Абонемент на 6 месяцев                  9000   \n",
       "                       Клубная карта на 1 месяц                2100   \n",
       "                       Льготный 1 месяц                        1050   \n",
       "Фитнес                 1 занятие                                300   \n",
       "                       Абонемент на 3 месяца                   5000   \n",
       "                       Абонемент на 6 месяцев                  8500   \n",
       "                       Клубная карта на 1 месяц                2000   \n",
       "                       Льготный 1 месяц                        1000   \n",
       "\n",
       "                                                                         \n",
       "Спортивный комплекс                             ГАУ РМ «Ледовый дворец»  \n",
       "Предоставляемая услуга Количество занятий                                \n",
       "Солярий                1 мин.                                        15  \n",
       "                       60 мин.                                      600  \n",
       "Тренажерный зал        1 занятие                                    250  \n",
       "                       Абонемент на 3 месяца                       4500  \n",
       "                       Абонемент на 6 месяцев                      8500  \n",
       "                       Клубная карта на 1 месяц                    1600  \n",
       "                       Льготный 1 месяц                             800  \n",
       "Фитнес                 1 занятие                                    250  \n",
       "                       Абонемент на 3 месяца                       4500  \n",
       "                       Абонемент на 6 месяцев                      8500  \n",
       "                       Клубная карта на 1 месяц                    1800  \n",
       "                       Льготный 1 месяц                            1100  "
      ]
     },
     "execution_count": 9,
     "metadata": {},
     "output_type": "execute_result"
    }
   ],
   "source": [
    "df_comparison_table.pivot_table(\n",
    "               index=[\"Предоставляемая услуга\", \"Количество занятий\"],\n",
    "               columns=[\"Спортивный комплекс\"],\n",
    "               values=[\"Стоимость\"])"
   ]
  }
 ],
 "metadata": {
  "kernelspec": {
   "display_name": "Python 3",
   "language": "python",
   "name": "python3"
  },
  "language_info": {
   "codemirror_mode": {
    "name": "ipython",
    "version": 3
   },
   "file_extension": ".py",
   "mimetype": "text/x-python",
   "name": "python",
   "nbconvert_exporter": "python",
   "pygments_lexer": "ipython3",
   "version": "3.11.2 (tags/v3.11.2:878ead1, Feb  7 2023, 16:38:35) [MSC v.1934 64 bit (AMD64)]"
  },
  "orig_nbformat": 4,
  "vscode": {
   "interpreter": {
    "hash": "697232e0b8e789ec23fe933c912406e74fbc7d569e5486b9b29a637f977feb44"
   }
  }
 },
 "nbformat": 4,
 "nbformat_minor": 2
}
